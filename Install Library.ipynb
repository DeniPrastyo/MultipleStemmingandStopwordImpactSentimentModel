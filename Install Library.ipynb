{
 "cells": [
  {
   "cell_type": "code",
   "execution_count": 6,
   "id": "5819d023",
   "metadata": {},
   "outputs": [
    {
     "name": "stdout",
     "output_type": "stream",
     "text": [
      "Successfully installed pandas\n",
      "Successfully installed regex\n",
      "Successfully installed Sastrawi\n",
      "Successfully installed nltk\n",
      "Successfully installed emoji\n",
      "Successfully installed matplotlib\n",
      "Successfully installed seaborn\n",
      "Successfully installed scikit-learn\n",
      "Successfully installed yellowbrick\n",
      "Successfully installed plotly\n",
      "Successfully installed pivottablejs\n",
      "Successfully installed wordcloud\n",
      "Failed to install itertools: Command '['pip', 'install', 'itertools']' returned non-zero exit status 1.\n"
     ]
    }
   ],
   "source": [
    "import subprocess\n",
    "\n",
    "libraries = [\n",
    "    'pandas',\n",
    "    'regex',\n",
    "    'Sastrawi',\n",
    "    'nltk',\n",
    "    'emoji',\n",
    "    'matplotlib',\n",
    "    'seaborn',\n",
    "    'scikit-learn',\n",
    "    'yellowbrick',\n",
    "    'plotly',\n",
    "    'pivottablejs',\n",
    "    'wordcloud'\n",
    "]\n",
    "\n",
    "for library in libraries:\n",
    "    try:\n",
    "        subprocess.check_call(['pip', 'install', library])\n",
    "        print(f\"Successfully installed {library}\")\n",
    "    except subprocess.CalledProcessError as e:\n",
    "        print(f\"Failed to install {library}: {str(e)}\")\n"
   ]
  }
 ],
 "metadata": {
  "kernelspec": {
   "display_name": "Python 3 (ipykernel)",
   "language": "python",
   "name": "python3"
  },
  "language_info": {
   "codemirror_mode": {
    "name": "ipython",
    "version": 3
   },
   "file_extension": ".py",
   "mimetype": "text/x-python",
   "name": "python",
   "nbconvert_exporter": "python",
   "pygments_lexer": "ipython3",
   "version": "3.9.12"
  }
 },
 "nbformat": 4,
 "nbformat_minor": 5
}
