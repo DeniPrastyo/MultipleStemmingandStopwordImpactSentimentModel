{
 "cells": [
  {
   "cell_type": "markdown",
   "id": "1a5a4a46",
   "metadata": {},
   "source": [
    "# **1. Library**"
   ]
  },
  {
   "cell_type": "code",
   "execution_count": 1,
   "id": "1d067a54",
   "metadata": {},
   "outputs": [],
   "source": [
    "import pandas as pd"
   ]
  },
  {
   "cell_type": "markdown",
   "id": "a3da5a6e",
   "metadata": {},
   "source": [
    "# **2. Loading Data**"
   ]
  },
  {
   "cell_type": "code",
   "execution_count": 2,
   "id": "4af1eebc",
   "metadata": {},
   "outputs": [],
   "source": [
    "Data = pd.read_csv ('data Scrap Grab.csv',sep =',')\n",
    "Data = Data[['content','score']]\n",
    "Data.loc[Data['score']>=4, 'sentiment'] = \"1\"\n",
    "Data.loc[Data['score']<=2, 'sentiment'] = \"-1\"\n",
    "Data = Data[['content','sentiment']]"
   ]
  },
  {
   "cell_type": "code",
   "execution_count": 3,
   "id": "e6e301ce",
   "metadata": {},
   "outputs": [
    {
     "data": {
      "text/plain": [
       "content          0\n",
       "sentiment    35821\n",
       "dtype: int64"
      ]
     },
     "execution_count": 3,
     "metadata": {},
     "output_type": "execute_result"
    }
   ],
   "source": [
    "Data.isna().sum()"
   ]
  },
  {
   "cell_type": "code",
   "execution_count": 4,
   "id": "af2ca7c7",
   "metadata": {},
   "outputs": [],
   "source": [
    "Data = Data.dropna()"
   ]
  },
  {
   "cell_type": "code",
   "execution_count": 5,
   "id": "d94e86b2",
   "metadata": {},
   "outputs": [
    {
     "data": {
      "text/plain": [
       "content      0\n",
       "sentiment    0\n",
       "dtype: int64"
      ]
     },
     "execution_count": 5,
     "metadata": {},
     "output_type": "execute_result"
    }
   ],
   "source": [
    "Data.isna().sum()"
   ]
  },
  {
   "cell_type": "code",
   "execution_count": 6,
   "id": "534a6d36",
   "metadata": {},
   "outputs": [
    {
     "data": {
      "text/plain": [
       "11"
      ]
     },
     "execution_count": 6,
     "metadata": {},
     "output_type": "execute_result"
    }
   ],
   "source": [
    "Data.duplicated().sum()"
   ]
  },
  {
   "cell_type": "code",
   "execution_count": 7,
   "id": "717cae1a",
   "metadata": {},
   "outputs": [],
   "source": [
    "Data = Data.drop_duplicates()"
   ]
  },
  {
   "cell_type": "code",
   "execution_count": 8,
   "id": "e0b0a5c0",
   "metadata": {},
   "outputs": [
    {
     "data": {
      "text/plain": [
       "0"
      ]
     },
     "execution_count": 8,
     "metadata": {},
     "output_type": "execute_result"
    }
   ],
   "source": [
    "Data.duplicated().sum()"
   ]
  },
  {
   "cell_type": "markdown",
   "id": "89acbb00",
   "metadata": {},
   "source": [
    "## **2.1 Sampling Data**"
   ]
  },
  {
   "cell_type": "code",
   "execution_count": 9,
   "id": "b651f9e2",
   "metadata": {},
   "outputs": [
    {
     "data": {
      "text/plain": [
       "array(['1', '-1'], dtype=object)"
      ]
     },
     "execution_count": 9,
     "metadata": {},
     "output_type": "execute_result"
    }
   ],
   "source": [
    "Data['sentiment'].unique()"
   ]
  },
  {
   "cell_type": "code",
   "execution_count": 10,
   "id": "3bc6c54d",
   "metadata": {},
   "outputs": [
    {
     "data": {
      "text/html": [
       "<div>\n",
       "<style scoped>\n",
       "    .dataframe tbody tr th:only-of-type {\n",
       "        vertical-align: middle;\n",
       "    }\n",
       "\n",
       "    .dataframe tbody tr th {\n",
       "        vertical-align: top;\n",
       "    }\n",
       "\n",
       "    .dataframe thead th {\n",
       "        text-align: right;\n",
       "    }\n",
       "</style>\n",
       "<table border=\"1\" class=\"dataframe\">\n",
       "  <thead>\n",
       "    <tr style=\"text-align: right;\">\n",
       "      <th></th>\n",
       "      <th>Count</th>\n",
       "      <th>Total Jenis</th>\n",
       "    </tr>\n",
       "  </thead>\n",
       "  <tbody>\n",
       "    <tr>\n",
       "      <th>0</th>\n",
       "      <td>Positive</td>\n",
       "      <td>284410</td>\n",
       "    </tr>\n",
       "    <tr>\n",
       "      <th>1</th>\n",
       "      <td>Negative</td>\n",
       "      <td>152776</td>\n",
       "    </tr>\n",
       "  </tbody>\n",
       "</table>\n",
       "</div>"
      ],
      "text/plain": [
       "      Count  Total Jenis\n",
       "0  Positive       284410\n",
       "1  Negative       152776"
      ]
     },
     "execution_count": 10,
     "metadata": {},
     "output_type": "execute_result"
    }
   ],
   "source": [
    "count = pd.DataFrame({\"Count\": ['Positive','Negative'],\"Total Jenis\": [len (Data[Data['sentiment']=='1']),len (Data[Data['sentiment']=='-1'])]})\n",
    "count"
   ]
  },
  {
   "cell_type": "code",
   "execution_count": 11,
   "id": "cda5af1b",
   "metadata": {},
   "outputs": [
    {
     "data": {
      "text/html": [
       "<div>\n",
       "<style scoped>\n",
       "    .dataframe tbody tr th:only-of-type {\n",
       "        vertical-align: middle;\n",
       "    }\n",
       "\n",
       "    .dataframe tbody tr th {\n",
       "        vertical-align: top;\n",
       "    }\n",
       "\n",
       "    .dataframe thead th {\n",
       "        text-align: right;\n",
       "    }\n",
       "</style>\n",
       "<table border=\"1\" class=\"dataframe\">\n",
       "  <thead>\n",
       "    <tr style=\"text-align: right;\">\n",
       "      <th></th>\n",
       "      <th>Count</th>\n",
       "      <th>Total Jenis</th>\n",
       "    </tr>\n",
       "  </thead>\n",
       "  <tbody>\n",
       "    <tr>\n",
       "      <th>0</th>\n",
       "      <td>Positive</td>\n",
       "      <td>65.054691</td>\n",
       "    </tr>\n",
       "    <tr>\n",
       "      <th>1</th>\n",
       "      <td>Negative</td>\n",
       "      <td>34.945309</td>\n",
       "    </tr>\n",
       "  </tbody>\n",
       "</table>\n",
       "</div>"
      ],
      "text/plain": [
       "      Count  Total Jenis\n",
       "0  Positive    65.054691\n",
       "1  Negative    34.945309"
      ]
     },
     "execution_count": 11,
     "metadata": {},
     "output_type": "execute_result"
    }
   ],
   "source": [
    "Percentage = pd.DataFrame({\"Count\": ['Positive','Negative'],\"Total Jenis\": [(len (Data[Data['sentiment']=='1'])/(len (Data[Data['sentiment']=='1']) + len (Data[Data['sentiment']=='-1'])))*100,(len (Data[Data['sentiment']=='-1'])/(len (Data[Data['sentiment']=='1']) + len (Data[Data['sentiment']=='-1'])))*100]})\n",
    "Percentage"
   ]
  },
  {
   "cell_type": "markdown",
   "id": "9397e9d7",
   "metadata": {},
   "source": [
    "### **2.1.1 Data 65/35**"
   ]
  },
  {
   "cell_type": "code",
   "execution_count": 12,
   "id": "e9e00877",
   "metadata": {},
   "outputs": [],
   "source": [
    "Data.to_csv('Data6535.csv',index = False)"
   ]
  },
  {
   "cell_type": "markdown",
   "id": "b27d71cc",
   "metadata": {},
   "source": [
    "### **2.1.2 Data 50/50**"
   ]
  },
  {
   "cell_type": "code",
   "execution_count": 13,
   "id": "96cd5c48",
   "metadata": {},
   "outputs": [
    {
     "data": {
      "text/html": [
       "<div>\n",
       "<style scoped>\n",
       "    .dataframe tbody tr th:only-of-type {\n",
       "        vertical-align: middle;\n",
       "    }\n",
       "\n",
       "    .dataframe tbody tr th {\n",
       "        vertical-align: top;\n",
       "    }\n",
       "\n",
       "    .dataframe thead th {\n",
       "        text-align: right;\n",
       "    }\n",
       "</style>\n",
       "<table border=\"1\" class=\"dataframe\">\n",
       "  <thead>\n",
       "    <tr style=\"text-align: right;\">\n",
       "      <th></th>\n",
       "      <th>content</th>\n",
       "      <th>sentiment</th>\n",
       "    </tr>\n",
       "  </thead>\n",
       "  <tbody>\n",
       "    <tr>\n",
       "      <th>0</th>\n",
       "      <td>yu Dr</td>\n",
       "      <td>1</td>\n",
       "    </tr>\n",
       "    <tr>\n",
       "      <th>1</th>\n",
       "      <td>Dua dulu yu</td>\n",
       "      <td>-1</td>\n",
       "    </tr>\n",
       "    <tr>\n",
       "      <th>2</th>\n",
       "      <td>Tolong y.tuk semua pengguna promo grab.jng se ...</td>\n",
       "      <td>-1</td>\n",
       "    </tr>\n",
       "    <tr>\n",
       "      <th>3</th>\n",
       "      <td>YTTA</td>\n",
       "      <td>1</td>\n",
       "    </tr>\n",
       "    <tr>\n",
       "      <th>4</th>\n",
       "      <td>YT.SUKANDA CATER</td>\n",
       "      <td>1</td>\n",
       "    </tr>\n",
       "    <tr>\n",
       "      <th>...</th>\n",
       "      <td>...</td>\n",
       "      <td>...</td>\n",
       "    </tr>\n",
       "    <tr>\n",
       "      <th>437181</th>\n",
       "      <td>Aapalah harga berubah2 mahal</td>\n",
       "      <td>-1</td>\n",
       "    </tr>\n",
       "    <tr>\n",
       "      <th>437182</th>\n",
       "      <td>Aapaan ni aplikasi. Gua gk di kasi kode. Akses...</td>\n",
       "      <td>-1</td>\n",
       "    </tr>\n",
       "    <tr>\n",
       "      <th>437183</th>\n",
       "      <td>Aap grab sangat membantu,pa lg ketika kt mau p...</td>\n",
       "      <td>1</td>\n",
       "    </tr>\n",
       "    <tr>\n",
       "      <th>437184</th>\n",
       "      <td>Aap ini bagus banget,kita gak perlu keluar seg...</td>\n",
       "      <td>1</td>\n",
       "    </tr>\n",
       "    <tr>\n",
       "      <th>437185</th>\n",
       "      <td>aap nya bagus</td>\n",
       "      <td>1</td>\n",
       "    </tr>\n",
       "  </tbody>\n",
       "</table>\n",
       "<p>437186 rows × 2 columns</p>\n",
       "</div>"
      ],
      "text/plain": [
       "                                                  content  sentiment\n",
       "0                                                   yu Dr          1\n",
       "1                                             Dua dulu yu         -1\n",
       "2       Tolong y.tuk semua pengguna promo grab.jng se ...         -1\n",
       "3                                                    YTTA          1\n",
       "4                                        YT.SUKANDA CATER          1\n",
       "...                                                   ...        ...\n",
       "437181                       Aapalah harga berubah2 mahal         -1\n",
       "437182  Aapaan ni aplikasi. Gua gk di kasi kode. Akses...         -1\n",
       "437183  Aap grab sangat membantu,pa lg ketika kt mau p...          1\n",
       "437184  Aap ini bagus banget,kita gak perlu keluar seg...          1\n",
       "437185                                      aap nya bagus          1\n",
       "\n",
       "[437186 rows x 2 columns]"
      ]
     },
     "execution_count": 13,
     "metadata": {},
     "output_type": "execute_result"
    }
   ],
   "source": [
    "Data2 = pd.read_csv('Data6535.csv')\n",
    "Data2"
   ]
  },
  {
   "cell_type": "code",
   "execution_count": 14,
   "id": "7c6f8c82",
   "metadata": {},
   "outputs": [
    {
     "data": {
      "text/plain": [
       "array([ 1, -1], dtype=int64)"
      ]
     },
     "execution_count": 14,
     "metadata": {},
     "output_type": "execute_result"
    }
   ],
   "source": [
    "Data2['sentiment'].unique()"
   ]
  },
  {
   "cell_type": "markdown",
   "id": "dde3ed0c",
   "metadata": {},
   "source": [
    "# **Config for Balanced Data**"
   ]
  },
  {
   "cell_type": "code",
   "execution_count": 15,
   "id": "7198770a",
   "metadata": {},
   "outputs": [],
   "source": [
    "Number = 150\n",
    "fraction = 0.47"
   ]
  },
  {
   "cell_type": "code",
   "execution_count": 16,
   "id": "0a9a58a2",
   "metadata": {},
   "outputs": [
    {
     "data": {
      "text/html": [
       "<div>\n",
       "<style scoped>\n",
       "    .dataframe tbody tr th:only-of-type {\n",
       "        vertical-align: middle;\n",
       "    }\n",
       "\n",
       "    .dataframe tbody tr th {\n",
       "        vertical-align: top;\n",
       "    }\n",
       "\n",
       "    .dataframe thead th {\n",
       "        text-align: right;\n",
       "    }\n",
       "</style>\n",
       "<table border=\"1\" class=\"dataframe\">\n",
       "  <thead>\n",
       "    <tr style=\"text-align: right;\">\n",
       "      <th></th>\n",
       "      <th>content</th>\n",
       "      <th>sentiment</th>\n",
       "    </tr>\n",
       "  </thead>\n",
       "  <tbody>\n",
       "    <tr>\n",
       "      <th>118750</th>\n",
       "      <td>Pengemudinya sadis</td>\n",
       "      <td>1</td>\n",
       "    </tr>\n",
       "    <tr>\n",
       "      <th>124638</th>\n",
       "      <td>Pelayanan terbaikkk The best laaa</td>\n",
       "      <td>1</td>\n",
       "    </tr>\n",
       "    <tr>\n",
       "      <th>426017</th>\n",
       "      <td>Alkhmdulillah bagus,,,terimakasih grb..</td>\n",
       "      <td>1</td>\n",
       "    </tr>\n",
       "    <tr>\n",
       "      <th>426973</th>\n",
       "      <td>Alhamdulillah selama pesan grab orgx pada rama\"</td>\n",
       "      <td>1</td>\n",
       "    </tr>\n",
       "    <tr>\n",
       "      <th>62292</th>\n",
       "      <td>Smoga makin bagus dlm pelayanan jg menambah pe...</td>\n",
       "      <td>1</td>\n",
       "    </tr>\n",
       "    <tr>\n",
       "      <th>...</th>\n",
       "      <td>...</td>\n",
       "      <td>...</td>\n",
       "    </tr>\n",
       "    <tr>\n",
       "      <th>437176</th>\n",
       "      <td>Aapkah grab sedang dlm mslh, sya habs pakai gr...</td>\n",
       "      <td>-1</td>\n",
       "    </tr>\n",
       "    <tr>\n",
       "      <th>437177</th>\n",
       "      <td>padahal dulu aapk ini paling murah dan sopan,n...</td>\n",
       "      <td>-1</td>\n",
       "    </tr>\n",
       "    <tr>\n",
       "      <th>437180</th>\n",
       "      <td>aapan ini bisanya upgrad mulu, abis kuota lol</td>\n",
       "      <td>-1</td>\n",
       "    </tr>\n",
       "    <tr>\n",
       "      <th>437181</th>\n",
       "      <td>Aapalah harga berubah2 mahal</td>\n",
       "      <td>-1</td>\n",
       "    </tr>\n",
       "    <tr>\n",
       "      <th>437182</th>\n",
       "      <td>Aapaan ni aplikasi. Gua gk di kasi kode. Akses...</td>\n",
       "      <td>-1</td>\n",
       "    </tr>\n",
       "  </tbody>\n",
       "</table>\n",
       "<p>286449 rows × 2 columns</p>\n",
       "</div>"
      ],
      "text/plain": [
       "                                                  content  sentiment\n",
       "118750                                 Pengemudinya sadis          1\n",
       "124638                  Pelayanan terbaikkk The best laaa          1\n",
       "426017            Alkhmdulillah bagus,,,terimakasih grb..          1\n",
       "426973    Alhamdulillah selama pesan grab orgx pada rama\"          1\n",
       "62292   Smoga makin bagus dlm pelayanan jg menambah pe...          1\n",
       "...                                                   ...        ...\n",
       "437176  Aapkah grab sedang dlm mslh, sya habs pakai gr...         -1\n",
       "437177  padahal dulu aapk ini paling murah dan sopan,n...         -1\n",
       "437180      aapan ini bisanya upgrad mulu, abis kuota lol         -1\n",
       "437181                       Aapalah harga berubah2 mahal         -1\n",
       "437182  Aapaan ni aplikasi. Gua gk di kasi kode. Akses...         -1\n",
       "\n",
       "[286449 rows x 2 columns]"
      ]
     },
     "execution_count": 16,
     "metadata": {},
     "output_type": "execute_result"
    }
   ],
   "source": [
    "Positive = Data2[Data2['sentiment']==1]\n",
    "Negative = Data2[Data2['sentiment']==-1]\n",
    "Positive = Positive.sample(frac = fraction , random_state=101)\n",
    "Data2 = pd.concat([Positive,Negative],axis=0)\n",
    "Data2"
   ]
  },
  {
   "cell_type": "code",
   "execution_count": 17,
   "id": "8a08bcc0",
   "metadata": {},
   "outputs": [
    {
     "data": {
      "text/html": [
       "<div>\n",
       "<style scoped>\n",
       "    .dataframe tbody tr th:only-of-type {\n",
       "        vertical-align: middle;\n",
       "    }\n",
       "\n",
       "    .dataframe tbody tr th {\n",
       "        vertical-align: top;\n",
       "    }\n",
       "\n",
       "    .dataframe thead th {\n",
       "        text-align: right;\n",
       "    }\n",
       "</style>\n",
       "<table border=\"1\" class=\"dataframe\">\n",
       "  <thead>\n",
       "    <tr style=\"text-align: right;\">\n",
       "      <th></th>\n",
       "      <th>content</th>\n",
       "      <th>sentiment</th>\n",
       "    </tr>\n",
       "  </thead>\n",
       "  <tbody>\n",
       "    <tr>\n",
       "      <th>416551</th>\n",
       "      <td>Aplikasi ini bermanfaat supaya bisa melihat lo...</td>\n",
       "      <td>1</td>\n",
       "    </tr>\n",
       "    <tr>\n",
       "      <th>220343</th>\n",
       "      <td>MAHAL, KALAH BERSAING, SELAMAT TINGGAL GRAB, T...</td>\n",
       "      <td>-1</td>\n",
       "    </tr>\n",
       "    <tr>\n",
       "      <th>418798</th>\n",
       "      <td>Aplikasi anjing gua udh di paketin tpi gk nemu...</td>\n",
       "      <td>-1</td>\n",
       "    </tr>\n",
       "    <tr>\n",
       "      <th>64777</th>\n",
       "      <td>Sistem aplikasi lemot. Keluar sendiri.</td>\n",
       "      <td>-1</td>\n",
       "    </tr>\n",
       "    <tr>\n",
       "      <th>273588</th>\n",
       "      <td>Saya baru instal ulang apk nya.tapi pas dimint...</td>\n",
       "      <td>-1</td>\n",
       "    </tr>\n",
       "    <tr>\n",
       "      <th>...</th>\n",
       "      <td>...</td>\n",
       "      <td>...</td>\n",
       "    </tr>\n",
       "    <tr>\n",
       "      <th>11103</th>\n",
       "      <td>klo ga di update dpt driver jauh jauh</td>\n",
       "      <td>-1</td>\n",
       "    </tr>\n",
       "    <tr>\n",
       "      <th>413241</th>\n",
       "      <td>aplikasi grab ini membantu banget buat saya ya...</td>\n",
       "      <td>1</td>\n",
       "    </tr>\n",
       "    <tr>\n",
       "      <th>423296</th>\n",
       "      <td>angel angel</td>\n",
       "      <td>-1</td>\n",
       "    </tr>\n",
       "    <tr>\n",
       "      <th>241698</th>\n",
       "      <td>Knpa sih hrus diupdate tros, memori guw pnuhh</td>\n",
       "      <td>-1</td>\n",
       "    </tr>\n",
       "    <tr>\n",
       "      <th>41197</th>\n",
       "      <td>Sya kecewa dengan aplikasi grab seyiap sya pes...</td>\n",
       "      <td>-1</td>\n",
       "    </tr>\n",
       "  </tbody>\n",
       "</table>\n",
       "<p>150 rows × 2 columns</p>\n",
       "</div>"
      ],
      "text/plain": [
       "                                                  content  sentiment\n",
       "416551  Aplikasi ini bermanfaat supaya bisa melihat lo...          1\n",
       "220343  MAHAL, KALAH BERSAING, SELAMAT TINGGAL GRAB, T...         -1\n",
       "418798  Aplikasi anjing gua udh di paketin tpi gk nemu...         -1\n",
       "64777              Sistem aplikasi lemot. Keluar sendiri.         -1\n",
       "273588  Saya baru instal ulang apk nya.tapi pas dimint...         -1\n",
       "...                                                   ...        ...\n",
       "11103               klo ga di update dpt driver jauh jauh         -1\n",
       "413241  aplikasi grab ini membantu banget buat saya ya...          1\n",
       "423296                                        angel angel         -1\n",
       "241698      Knpa sih hrus diupdate tros, memori guw pnuhh         -1\n",
       "41197   Sya kecewa dengan aplikasi grab seyiap sya pes...         -1\n",
       "\n",
       "[150 rows x 2 columns]"
      ]
     },
     "execution_count": 17,
     "metadata": {},
     "output_type": "execute_result"
    }
   ],
   "source": [
    "Data2=Data2.sample(n=Number,random_state = 435)\n",
    "Data2"
   ]
  },
  {
   "cell_type": "code",
   "execution_count": 18,
   "id": "955b0fcd",
   "metadata": {},
   "outputs": [
    {
     "data": {
      "text/html": [
       "<div>\n",
       "<style scoped>\n",
       "    .dataframe tbody tr th:only-of-type {\n",
       "        vertical-align: middle;\n",
       "    }\n",
       "\n",
       "    .dataframe tbody tr th {\n",
       "        vertical-align: top;\n",
       "    }\n",
       "\n",
       "    .dataframe thead th {\n",
       "        text-align: right;\n",
       "    }\n",
       "</style>\n",
       "<table border=\"1\" class=\"dataframe\">\n",
       "  <thead>\n",
       "    <tr style=\"text-align: right;\">\n",
       "      <th></th>\n",
       "      <th>Count</th>\n",
       "      <th>Total Jenis</th>\n",
       "    </tr>\n",
       "  </thead>\n",
       "  <tbody>\n",
       "    <tr>\n",
       "      <th>0</th>\n",
       "      <td>Positive</td>\n",
       "      <td>75</td>\n",
       "    </tr>\n",
       "    <tr>\n",
       "      <th>1</th>\n",
       "      <td>Negative</td>\n",
       "      <td>75</td>\n",
       "    </tr>\n",
       "  </tbody>\n",
       "</table>\n",
       "</div>"
      ],
      "text/plain": [
       "      Count  Total Jenis\n",
       "0  Positive           75\n",
       "1  Negative           75"
      ]
     },
     "execution_count": 18,
     "metadata": {},
     "output_type": "execute_result"
    }
   ],
   "source": [
    "count = pd.DataFrame({\"Count\": ['Positive','Negative'],\"Total Jenis\": [len (Data2[Data2['sentiment']==1]),len (Data2[Data2['sentiment']==-1])]})\n",
    "count"
   ]
  },
  {
   "cell_type": "code",
   "execution_count": 19,
   "id": "35a80a69",
   "metadata": {},
   "outputs": [
    {
     "data": {
      "text/html": [
       "<div>\n",
       "<style scoped>\n",
       "    .dataframe tbody tr th:only-of-type {\n",
       "        vertical-align: middle;\n",
       "    }\n",
       "\n",
       "    .dataframe tbody tr th {\n",
       "        vertical-align: top;\n",
       "    }\n",
       "\n",
       "    .dataframe thead th {\n",
       "        text-align: right;\n",
       "    }\n",
       "</style>\n",
       "<table border=\"1\" class=\"dataframe\">\n",
       "  <thead>\n",
       "    <tr style=\"text-align: right;\">\n",
       "      <th></th>\n",
       "      <th>Count</th>\n",
       "      <th>Total Jenis</th>\n",
       "    </tr>\n",
       "  </thead>\n",
       "  <tbody>\n",
       "    <tr>\n",
       "      <th>0</th>\n",
       "      <td>Positive</td>\n",
       "      <td>50.0</td>\n",
       "    </tr>\n",
       "    <tr>\n",
       "      <th>1</th>\n",
       "      <td>Negative</td>\n",
       "      <td>50.0</td>\n",
       "    </tr>\n",
       "  </tbody>\n",
       "</table>\n",
       "</div>"
      ],
      "text/plain": [
       "      Count  Total Jenis\n",
       "0  Positive         50.0\n",
       "1  Negative         50.0"
      ]
     },
     "execution_count": 19,
     "metadata": {},
     "output_type": "execute_result"
    }
   ],
   "source": [
    "Percentage = pd.DataFrame({\"Count\": ['Positive','Negative'],\"Total Jenis\": [(len (Data2[Data2['sentiment']==1])/(len (Data2[Data2['sentiment']==1]) + len (Data2[Data2['sentiment']==-1])))*100,(len (Data2[Data2['sentiment']==-1])/(len (Data2[Data2['sentiment']==1]) + len (Data2[Data2['sentiment']==-1])))*100]})\n",
    "Percentage"
   ]
  },
  {
   "cell_type": "code",
   "execution_count": 20,
   "id": "171601a8",
   "metadata": {},
   "outputs": [],
   "source": [
    "Data2.to_csv ('Data5050.csv',index = False)"
   ]
  },
  {
   "cell_type": "markdown",
   "id": "dfb78ee0",
   "metadata": {},
   "source": [
    "### **2.1.3 Data 70/30**"
   ]
  },
  {
   "cell_type": "code",
   "execution_count": 21,
   "id": "80b89c74",
   "metadata": {},
   "outputs": [
    {
     "data": {
      "text/html": [
       "<div>\n",
       "<style scoped>\n",
       "    .dataframe tbody tr th:only-of-type {\n",
       "        vertical-align: middle;\n",
       "    }\n",
       "\n",
       "    .dataframe tbody tr th {\n",
       "        vertical-align: top;\n",
       "    }\n",
       "\n",
       "    .dataframe thead th {\n",
       "        text-align: right;\n",
       "    }\n",
       "</style>\n",
       "<table border=\"1\" class=\"dataframe\">\n",
       "  <thead>\n",
       "    <tr style=\"text-align: right;\">\n",
       "      <th></th>\n",
       "      <th>content</th>\n",
       "      <th>sentiment</th>\n",
       "    </tr>\n",
       "  </thead>\n",
       "  <tbody>\n",
       "    <tr>\n",
       "      <th>0</th>\n",
       "      <td>yu Dr</td>\n",
       "      <td>1</td>\n",
       "    </tr>\n",
       "    <tr>\n",
       "      <th>1</th>\n",
       "      <td>Dua dulu yu</td>\n",
       "      <td>-1</td>\n",
       "    </tr>\n",
       "    <tr>\n",
       "      <th>2</th>\n",
       "      <td>Tolong y.tuk semua pengguna promo grab.jng se ...</td>\n",
       "      <td>-1</td>\n",
       "    </tr>\n",
       "    <tr>\n",
       "      <th>3</th>\n",
       "      <td>YTTA</td>\n",
       "      <td>1</td>\n",
       "    </tr>\n",
       "    <tr>\n",
       "      <th>4</th>\n",
       "      <td>YT.SUKANDA CATER</td>\n",
       "      <td>1</td>\n",
       "    </tr>\n",
       "    <tr>\n",
       "      <th>...</th>\n",
       "      <td>...</td>\n",
       "      <td>...</td>\n",
       "    </tr>\n",
       "    <tr>\n",
       "      <th>437181</th>\n",
       "      <td>Aapalah harga berubah2 mahal</td>\n",
       "      <td>-1</td>\n",
       "    </tr>\n",
       "    <tr>\n",
       "      <th>437182</th>\n",
       "      <td>Aapaan ni aplikasi. Gua gk di kasi kode. Akses...</td>\n",
       "      <td>-1</td>\n",
       "    </tr>\n",
       "    <tr>\n",
       "      <th>437183</th>\n",
       "      <td>Aap grab sangat membantu,pa lg ketika kt mau p...</td>\n",
       "      <td>1</td>\n",
       "    </tr>\n",
       "    <tr>\n",
       "      <th>437184</th>\n",
       "      <td>Aap ini bagus banget,kita gak perlu keluar seg...</td>\n",
       "      <td>1</td>\n",
       "    </tr>\n",
       "    <tr>\n",
       "      <th>437185</th>\n",
       "      <td>aap nya bagus</td>\n",
       "      <td>1</td>\n",
       "    </tr>\n",
       "  </tbody>\n",
       "</table>\n",
       "<p>437186 rows × 2 columns</p>\n",
       "</div>"
      ],
      "text/plain": [
       "                                                  content  sentiment\n",
       "0                                                   yu Dr          1\n",
       "1                                             Dua dulu yu         -1\n",
       "2       Tolong y.tuk semua pengguna promo grab.jng se ...         -1\n",
       "3                                                    YTTA          1\n",
       "4                                        YT.SUKANDA CATER          1\n",
       "...                                                   ...        ...\n",
       "437181                       Aapalah harga berubah2 mahal         -1\n",
       "437182  Aapaan ni aplikasi. Gua gk di kasi kode. Akses...         -1\n",
       "437183  Aap grab sangat membantu,pa lg ketika kt mau p...          1\n",
       "437184  Aap ini bagus banget,kita gak perlu keluar seg...          1\n",
       "437185                                      aap nya bagus          1\n",
       "\n",
       "[437186 rows x 2 columns]"
      ]
     },
     "execution_count": 21,
     "metadata": {},
     "output_type": "execute_result"
    }
   ],
   "source": [
    "Data3 = pd.read_csv('Data6535.csv')\n",
    "Data3"
   ]
  },
  {
   "cell_type": "markdown",
   "id": "1e7331a4",
   "metadata": {},
   "source": [
    "# **Config For Imbalanced Data**"
   ]
  },
  {
   "cell_type": "code",
   "execution_count": 22,
   "id": "114384e8",
   "metadata": {},
   "outputs": [],
   "source": [
    "Number2 = 150\n",
    "frac_pos = 0.54\n",
    "frac_neg = 0.46"
   ]
  },
  {
   "cell_type": "code",
   "execution_count": 23,
   "id": "c2db7c5d",
   "metadata": {},
   "outputs": [
    {
     "data": {
      "text/html": [
       "<div>\n",
       "<style scoped>\n",
       "    .dataframe tbody tr th:only-of-type {\n",
       "        vertical-align: middle;\n",
       "    }\n",
       "\n",
       "    .dataframe tbody tr th {\n",
       "        vertical-align: top;\n",
       "    }\n",
       "\n",
       "    .dataframe thead th {\n",
       "        text-align: right;\n",
       "    }\n",
       "</style>\n",
       "<table border=\"1\" class=\"dataframe\">\n",
       "  <thead>\n",
       "    <tr style=\"text-align: right;\">\n",
       "      <th></th>\n",
       "      <th>content</th>\n",
       "      <th>sentiment</th>\n",
       "    </tr>\n",
       "  </thead>\n",
       "  <tbody>\n",
       "    <tr>\n",
       "      <th>220010</th>\n",
       "      <td>Tambah sini tambah mahal... promo nya percuma ...</td>\n",
       "      <td>-1</td>\n",
       "    </tr>\n",
       "    <tr>\n",
       "      <th>169492</th>\n",
       "      <td>Agak menurun ð</td>\n",
       "      <td>1</td>\n",
       "    </tr>\n",
       "    <tr>\n",
       "      <th>429914</th>\n",
       "      <td>Akun tibaÂ² ditangguhkan, padahal gapernah bik...</td>\n",
       "      <td>-1</td>\n",
       "    </tr>\n",
       "    <tr>\n",
       "      <th>52243</th>\n",
       "      <td>Saya suka pelayan nya ðð</td>\n",
       "      <td>1</td>\n",
       "    </tr>\n",
       "    <tr>\n",
       "      <th>164205</th>\n",
       "      <td>mobil Avanza e bisnis</td>\n",
       "      <td>1</td>\n",
       "    </tr>\n",
       "    <tr>\n",
       "      <th>...</th>\n",
       "      <td>...</td>\n",
       "      <td>...</td>\n",
       "    </tr>\n",
       "    <tr>\n",
       "      <th>101816</th>\n",
       "      <td>Promo gak bisa di gunakan , driver nya sibuk t...</td>\n",
       "      <td>-1</td>\n",
       "    </tr>\n",
       "    <tr>\n",
       "      <th>143311</th>\n",
       "      <td>Oke ni</td>\n",
       "      <td>1</td>\n",
       "    </tr>\n",
       "    <tr>\n",
       "      <th>101905</th>\n",
       "      <td>banyak promo diskon...the best</td>\n",
       "      <td>1</td>\n",
       "    </tr>\n",
       "    <tr>\n",
       "      <th>61471</th>\n",
       "      <td>sngat menbantu tpi ko gc normal y harga y slal...</td>\n",
       "      <td>1</td>\n",
       "    </tr>\n",
       "    <tr>\n",
       "      <th>362786</th>\n",
       "      <td>bs kenal dkt sama drivernya keren dh</td>\n",
       "      <td>1</td>\n",
       "    </tr>\n",
       "  </tbody>\n",
       "</table>\n",
       "<p>150 rows × 2 columns</p>\n",
       "</div>"
      ],
      "text/plain": [
       "                                                  content  sentiment\n",
       "220010  Tambah sini tambah mahal... promo nya percuma ...         -1\n",
       "169492                                  Agak menurun ð          1\n",
       "429914  Akun tibaÂ² ditangguhkan, padahal gapernah bik...         -1\n",
       "52243                      Saya suka pelayan nya ðð          1\n",
       "164205                              mobil Avanza e bisnis          1\n",
       "...                                                   ...        ...\n",
       "101816  Promo gak bisa di gunakan , driver nya sibuk t...         -1\n",
       "143311                                             Oke ni          1\n",
       "101905                     banyak promo diskon...the best          1\n",
       "61471   sngat menbantu tpi ko gc normal y harga y slal...          1\n",
       "362786               bs kenal dkt sama drivernya keren dh          1\n",
       "\n",
       "[150 rows x 2 columns]"
      ]
     },
     "execution_count": 23,
     "metadata": {},
     "output_type": "execute_result"
    }
   ],
   "source": [
    "Positive1 = Data3[Data3['sentiment'] == 1].sample(frac=frac_pos, random_state=1)\n",
    "Negative1 = Data3[Data3['sentiment'] == -1].sample(frac=frac_neg, random_state=1)\n",
    "Data3 = pd.concat([Positive1,Negative1],axis=0)\n",
    "Data3 = Data3.sample(n = Number2,random_state = 43)\n",
    "Data3"
   ]
  },
  {
   "cell_type": "code",
   "execution_count": 24,
   "id": "c63fa976",
   "metadata": {},
   "outputs": [
    {
     "data": {
      "text/html": [
       "<div>\n",
       "<style scoped>\n",
       "    .dataframe tbody tr th:only-of-type {\n",
       "        vertical-align: middle;\n",
       "    }\n",
       "\n",
       "    .dataframe tbody tr th {\n",
       "        vertical-align: top;\n",
       "    }\n",
       "\n",
       "    .dataframe thead th {\n",
       "        text-align: right;\n",
       "    }\n",
       "</style>\n",
       "<table border=\"1\" class=\"dataframe\">\n",
       "  <thead>\n",
       "    <tr style=\"text-align: right;\">\n",
       "      <th></th>\n",
       "      <th>Count</th>\n",
       "      <th>Total Jenis</th>\n",
       "    </tr>\n",
       "  </thead>\n",
       "  <tbody>\n",
       "    <tr>\n",
       "      <th>0</th>\n",
       "      <td>Positive</td>\n",
       "      <td>72.0</td>\n",
       "    </tr>\n",
       "    <tr>\n",
       "      <th>1</th>\n",
       "      <td>Negative</td>\n",
       "      <td>28.0</td>\n",
       "    </tr>\n",
       "  </tbody>\n",
       "</table>\n",
       "</div>"
      ],
      "text/plain": [
       "      Count  Total Jenis\n",
       "0  Positive         72.0\n",
       "1  Negative         28.0"
      ]
     },
     "execution_count": 24,
     "metadata": {},
     "output_type": "execute_result"
    }
   ],
   "source": [
    "Percentage = pd.DataFrame({\"Count\": ['Positive','Negative'],\"Total Jenis\": [(len (Data3[Data3['sentiment']==1])/(len (Data3[Data3['sentiment']==1]) + len (Data3[Data3['sentiment']==-1])))*100,(len (Data3[Data3['sentiment']==-1])/(len (Data3[Data3['sentiment']==1]) + len (Data3[Data3['sentiment']==-1])))*100]})\n",
    "Percentage"
   ]
  },
  {
   "cell_type": "code",
   "execution_count": 25,
   "id": "85a6dcba",
   "metadata": {},
   "outputs": [],
   "source": [
    "Data3.to_csv ('Data7030.csv',index =False )"
   ]
  }
 ],
 "metadata": {
  "kernelspec": {
   "display_name": "Python 3 (ipykernel)",
   "language": "python",
   "name": "python3"
  },
  "language_info": {
   "codemirror_mode": {
    "name": "ipython",
    "version": 3
   },
   "file_extension": ".py",
   "mimetype": "text/x-python",
   "name": "python",
   "nbconvert_exporter": "python",
   "pygments_lexer": "ipython3",
   "version": "3.9.12"
  }
 },
 "nbformat": 4,
 "nbformat_minor": 5
}
